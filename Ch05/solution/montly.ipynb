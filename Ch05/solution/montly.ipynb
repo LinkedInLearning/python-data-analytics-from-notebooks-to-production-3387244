{
 "cells": [
  {
   "cell_type": "code",
   "execution_count": null,
   "metadata": {},
   "outputs": [],
   "source": [
    "from os import environ\n",
    "import logging\n",
    "import duckdb\n",
    "import pandas as pd\n",
    "import psycopg\n",
    "from sqlalchemy import create_engine"
   ]
  },
  {
   "cell_type": "code",
   "execution_count": null,
   "metadata": {},
   "outputs": [],
   "source": [
    "logging.basicConfig(\n",
    "    level=logging.INFO,\n",
    "    format='%(asctime)s - %(levelname)s - %(message)s',\n",
    "    datefmt='%Y-%m-%dT%H:%M:%S',\n",
    ")"
   ]
  },
  {
   "cell_type": "markdown",
   "metadata": {},
   "source": [
    "# Load Data"
   ]
  },
  {
   "cell_type": "code",
   "execution_count": null,
   "metadata": {},
   "outputs": [],
   "source": [
    "sql = '''\n",
    "SELECT\n",
    "    bikeid AS bike_id, \n",
    "    date_trunc('month', start_time) AS month, \n",
    "    COUNT(bikeid) AS count \n",
    "FROM rides \n",
    "GROUP BY \n",
    "    bikeid, date_trunc('month', start_time)\n",
    ";\n",
    "'''\n",
    "\n",
    "db_file = environ.get('BIKES_DB', '../../data/bikes.ddb')\n",
    "logging.info('loading rides from %s', db_file)\n",
    "with create_engine('duckdb:///' + db_file).connect() as conn:\n",
    "    df = pd.read_sql(sql, conn)\n",
    "logging.info('loaded %d rides', len(df))"
   ]
  },
  {
   "cell_type": "markdown",
   "metadata": {},
   "source": [
    "# Cleanup\n"
   ]
  },
  {
   "cell_type": "code",
   "execution_count": null,
   "metadata": {},
   "outputs": [],
   "source": [
    "logging.info('cleaning')\n",
    "df = df[~pd.isnull(df['bike_id'])].copy()\n",
    "df['bike_id'] = df['bike_id'].astype('int64')\n",
    "logging.info('size after cleanup: %d', len(df))"
   ]
  },
  {
   "cell_type": "markdown",
   "metadata": {},
   "source": [
    "# Upload"
   ]
  },
  {
   "cell_type": "code",
   "execution_count": null,
   "metadata": {},
   "outputs": [],
   "source": [
    "db_user = environ.get('DB_USER', 'postgres')\n",
    "db_passwd = environ.get('DB_PASSWD', 's3cr3t')\n",
    "db_host = environ.get('DB_HOST', 'localhost')\n",
    "\n",
    "logging.info('%s uploading to %s', db_user, db_host)\n",
    "url = f'postgresql+psycopg://{db_user}:{db_passwd}@{db_host}'\n",
    "with create_engine(url).connect() as conn:\n",
    "    df.to_sql('monthly_rides', conn, if_exists='append', index=False)\n",
    "logging.info('upload done')"
   ]
  }
 ],
 "metadata": {
  "kernelspec": {
   "display_name": ".venv",
   "language": "python",
   "name": "python3"
  },
  "language_info": {
   "codemirror_mode": {
    "name": "ipython",
    "version": 3
   },
   "file_extension": ".py",
   "mimetype": "text/x-python",
   "name": "python",
   "nbconvert_exporter": "python",
   "pygments_lexer": "ipython3",
   "version": "3.12.3"
  }
 },
 "nbformat": 4,
 "nbformat_minor": 2
}
